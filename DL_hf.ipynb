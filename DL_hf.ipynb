{
  "cells": [
    {
      "cell_type": "markdown",
      "metadata": {
        "id": "view-in-github",
        "colab_type": "text"
      },
      "source": [
        "<a href=\"https://colab.research.google.com/github/ZsZs88/DL-hf/blob/main/DL_hf.ipynb\" target=\"_parent\"><img src=\"https://colab.research.google.com/assets/colab-badge.svg\" alt=\"Open In Colab\"/></a>"
      ]
    },
    {
      "cell_type": "markdown",
      "source": [
        "# Prerequisites"
      ],
      "metadata": {
        "id": "b1cUnFJEmab0"
      }
    },
    {
      "cell_type": "markdown",
      "source": [
        "**Always check your working directory to avoid problems**"
      ],
      "metadata": {
        "id": "NclrF4IJnzvb"
      }
    },
    {
      "cell_type": "code",
      "source": [
        "%pwd"
      ],
      "metadata": {
        "colab": {
          "base_uri": "https://localhost:8080/",
          "height": 35
        },
        "id": "WaQZLhtqnyLn",
        "outputId": "2eee69b3-87cf-43c9-a993-31fedd72d577"
      },
      "execution_count": 4,
      "outputs": [
        {
          "output_type": "execute_result",
          "data": {
            "text/plain": [
              "'/content/drive/MyDrive/DL-hf'"
            ],
            "application/vnd.google.colaboratory.intrinsic+json": {
              "type": "string"
            }
          },
          "metadata": {},
          "execution_count": 4
        }
      ]
    },
    {
      "cell_type": "markdown",
      "metadata": {
        "id": "jepWfrB3goGq"
      },
      "source": [
        "### Mount Drive to Colab\n",
        "**Make a shortcut of the shared folder** _DL-hf_ **to your OneDrive**\\\n",
        "Use when testing in Colab and in need of the Dataset in the shared folder"
      ]
    },
    {
      "cell_type": "code",
      "execution_count": null,
      "metadata": {
        "colab": {
          "base_uri": "https://localhost:8080/"
        },
        "id": "AhdkHS7XE25N",
        "outputId": "f0454a7b-f1ba-4bfc-bb11-a41ac083a6f5"
      },
      "outputs": [
        {
          "output_type": "stream",
          "name": "stdout",
          "text": [
            "Mounted at /content/drive\n",
            "/content/drive/.shortcut-targets-by-id/123hI_aEFADXnyuu9m8wz4XdwBQenLgwj/DL-hf\n"
          ]
        }
      ],
      "source": [
        "from google.colab import drive\n",
        "drive.mount('/content/drive', force_remount=True)\n",
        "%cd /content/drive/MyDrive/DL-hf"
      ]
    },
    {
      "cell_type": "markdown",
      "source": [
        "## Github\n",
        "It is recommended to:\n",
        "* work in your own local environment\n",
        "* commit and push changes to the repository form there\n",
        "* use the **Colab Notebook** only to run tests in cloud\n",
        "\n"
      ],
      "metadata": {
        "id": "Wkjle1w2lT7T"
      }
    },
    {
      "cell_type": "markdown",
      "metadata": {
        "id": "HbrqioD4goGz"
      },
      "source": [
        "### Pull from Github repository if needed"
      ]
    },
    {
      "cell_type": "code",
      "execution_count": null,
      "metadata": {
        "colab": {
          "base_uri": "https://localhost:8080/"
        },
        "id": "_NRnSgHZgoG3",
        "outputId": "c3ee2fcb-20d9-4100-c459-97023fca826f"
      },
      "outputs": [
        {
          "output_type": "stream",
          "name": "stdout",
          "text": [
            "Already up to date.\n"
          ]
        }
      ],
      "source": [
        "!git pull"
      ]
    },
    {
      "cell_type": "markdown",
      "source": [
        "### **AVOID IF YOU CAN**\n",
        "saving changes to the Github Repository using _File/Download copy to GitHub_"
      ],
      "metadata": {
        "id": "1va-2gZgk6Ud"
      }
    },
    {
      "cell_type": "markdown",
      "source": [
        "# Dataset"
      ],
      "metadata": {
        "id": "YEYqDqqrkZJj"
      }
    },
    {
      "cell_type": "markdown",
      "source": [
        "# Model"
      ],
      "metadata": {
        "id": "R9U-k4qTkpWn"
      }
    },
    {
      "cell_type": "markdown",
      "source": [
        "# Training"
      ],
      "metadata": {
        "id": "Wk6SsNLRkrEe"
      }
    },
    {
      "cell_type": "markdown",
      "source": [
        "# Evaluation"
      ],
      "metadata": {
        "id": "a2HqCbYKktRL"
      }
    }
  ],
  "metadata": {
    "colab": {
      "provenance": [],
      "include_colab_link": true
    },
    "kernelspec": {
      "display_name": "Python 3",
      "name": "python3"
    },
    "language_info": {
      "name": "python"
    }
  },
  "nbformat": 4,
  "nbformat_minor": 0
}