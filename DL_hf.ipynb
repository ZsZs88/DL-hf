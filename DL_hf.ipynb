{
  "cells": [
    {
      "cell_type": "markdown",
      "metadata": {
        "id": "HKo1DKgTpfTH"
      },
      "source": [
        "**DO NOT ALLOW LINK FROM COLLAB**"
      ]
    },
    {
      "cell_type": "markdown",
      "metadata": {
        "id": "b1cUnFJEmab0"
      },
      "source": [
        "# Prerequisites"
      ]
    },
    {
      "cell_type": "markdown",
      "metadata": {
        "id": "NclrF4IJnzvb"
      },
      "source": [
        "**Always check your working directory to avoid problems**"
      ]
    },
    {
      "cell_type": "code",
      "execution_count": null,
      "metadata": {
        "colab": {
          "base_uri": "https://localhost:8080/",
          "height": 35
        },
        "id": "WaQZLhtqnyLn",
        "outputId": "2eee69b3-87cf-43c9-a993-31fedd72d577"
      },
      "outputs": [
        {
          "data": {
            "application/vnd.google.colaboratory.intrinsic+json": {
              "type": "string"
            },
            "text/plain": [
              "'/content/drive/MyDrive/DL-hf'"
            ]
          },
          "execution_count": 4,
          "metadata": {},
          "output_type": "execute_result"
        }
      ],
      "source": [
        "%pwd"
      ]
    },
    {
      "cell_type": "markdown",
      "metadata": {
        "id": "jepWfrB3goGq"
      },
      "source": [
        "### Mount Drive to Colab\n",
        "**Make a shortcut of the shared folder** _DL-hf_ **to your OneDrive**\\\n",
        "Use when testing in Colab and in need of the Dataset in the shared folder"
      ]
    },
    {
      "cell_type": "code",
      "execution_count": null,
      "metadata": {
        "colab": {
          "base_uri": "https://localhost:8080/"
        },
        "id": "AhdkHS7XE25N",
        "outputId": "f0454a7b-f1ba-4bfc-bb11-a41ac083a6f5"
      },
      "outputs": [
        {
          "name": "stdout",
          "output_type": "stream",
          "text": [
            "Mounted at /content/drive\n",
            "/content/drive/.shortcut-targets-by-id/123hI_aEFADXnyuu9m8wz4XdwBQenLgwj/DL-hf\n"
          ]
        }
      ],
      "source": [
        "from google.colab import drive\n",
        "drive.mount('/content/drive', force_remount=True)\n",
        "%cd /content/drive/MyDrive/DL-hf"
      ]
    },
    {
      "cell_type": "markdown",
      "metadata": {
        "id": "Wkjle1w2lT7T"
      },
      "source": [
        "## Github\n",
        "It is recommended to:\n",
        "* work in your own local environment\n",
        "* commit and push changes to the repository form there\n",
        "* use the **Colab Notebook** only to run tests in cloud\n",
        "\n"
      ]
    },
    {
      "cell_type": "markdown",
      "metadata": {
        "id": "HbrqioD4goGz"
      },
      "source": [
        "### Pull from Github repository if needed\n",
        "**ALWAYS REOPEN the notebook after this**"
      ]
    },
    {
      "cell_type": "code",
      "execution_count": null,
      "metadata": {
        "colab": {
          "base_uri": "https://localhost:8080/"
        },
        "id": "_NRnSgHZgoG3",
        "outputId": "c3ee2fcb-20d9-4100-c459-97023fca826f"
      },
      "outputs": [
        {
          "name": "stdout",
          "output_type": "stream",
          "text": [
            "Already up to date.\n"
          ]
        }
      ],
      "source": [
        "!git reset --hard HEAD\n",
        "!git pull"
      ]
    },
    {
      "cell_type": "markdown",
      "metadata": {
        "id": "1va-2gZgk6Ud"
      },
      "source": [
        "### **AVOID IF YOU CAN**\n",
        "saving changes to the Github Repository using _File/Download copy to GitHub_"
      ]
    },
    {
      "cell_type": "markdown",
      "metadata": {
        "id": "YEYqDqqrkZJj"
      },
      "source": [
        "# Dataset"
      ]
    },
    {
      "cell_type": "markdown",
      "metadata": {
        "id": "R9U-k4qTkpWn"
      },
      "source": [
        "# Model"
      ]
    },
    {
      "cell_type": "markdown",
      "metadata": {
        "id": "Wk6SsNLRkrEe"
      },
      "source": [
        "# Training"
      ]
    },
    {
      "cell_type": "markdown",
      "metadata": {
        "id": "a2HqCbYKktRL"
      },
      "source": [
        "# Evaluation"
      ]
    }
  ],
  "metadata": {
    "colab": {
      "provenance": []
    },
    "kernelspec": {
      "display_name": "Python 3",
      "name": "python3"
    },
    "language_info": {
      "name": "python"
    }
  },
  "nbformat": 4,
  "nbformat_minor": 0
}