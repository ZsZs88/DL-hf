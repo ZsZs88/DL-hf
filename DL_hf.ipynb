{
  "cells": [
    {
      "cell_type": "markdown",
      "metadata": {
        "id": "jepWfrB3goGq"
      },
      "source": [
        "### Mount Drive to Colab\n",
        "Use when testing in Colab and in need of the Dataset in the shared folder\\\n",
        "**Use Colabs directory option if needed**\n"
      ]
    },
    {
      "cell_type": "code",
      "execution_count": 2,
      "metadata": {
        "colab": {
          "base_uri": "https://localhost:8080/"
        },
        "id": "AhdkHS7XE25N",
        "outputId": "2a0893ed-e4fe-456d-bf71-52c5c0054bf8"
      },
      "outputs": [
        {
          "output_type": "stream",
          "name": "stdout",
          "text": [
            "Mounted at /content/drive\n",
            "/content/drive/MyDrive/DL-hf_shared\n"
          ]
        }
      ],
      "source": [
        "from google.colab import drive\n",
        "drive.mount('/content/drive', force_remount=True)\n",
        "%cd /content/drive/MyDrive/DL-hf_shared"
      ]
    },
    {
      "cell_type": "markdown",
      "metadata": {
        "id": "s3gJTBZzgoG4"
      },
      "source": [
        "## Start working"
      ]
    },
    {
      "cell_type": "code",
      "source": [
        "%cd DL-hf/"
      ],
      "metadata": {
        "colab": {
          "base_uri": "https://localhost:8080/"
        },
        "id": "osk0j9nVg3GZ",
        "outputId": "41c3f614-8b27-49a9-9345-9d81acece550"
      },
      "execution_count": 18,
      "outputs": [
        {
          "output_type": "stream",
          "name": "stdout",
          "text": [
            "[Errno 2] No such file or directory: 'DL-hf/'\n",
            "/content/drive/MyDrive/DL-hf_shared/DL-hf\n"
          ]
        }
      ]
    },
    {
      "cell_type": "markdown",
      "metadata": {
        "id": "HbrqioD4goGz"
      },
      "source": [
        "### Pull from Github repository if needed"
      ]
    },
    {
      "cell_type": "code",
      "execution_count": 19,
      "metadata": {
        "colab": {
          "base_uri": "https://localhost:8080/"
        },
        "id": "_NRnSgHZgoG3",
        "outputId": "faf35628-387f-4a19-bc00-7de0e20c1283"
      },
      "outputs": [
        {
          "output_type": "stream",
          "name": "stdout",
          "text": [
            "Already up to date.\n"
          ]
        }
      ],
      "source": [
        "!git pull"
      ]
    }
  ],
  "metadata": {
    "colab": {
      "provenance": []
    },
    "kernelspec": {
      "display_name": "Python 3",
      "name": "python3"
    },
    "language_info": {
      "name": "python"
    }
  },
  "nbformat": 4,
  "nbformat_minor": 0
}