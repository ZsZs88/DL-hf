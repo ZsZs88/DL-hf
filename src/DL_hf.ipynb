{
  "cells": [
    {
      "cell_type": "code",
      "execution_count": null,
      "metadata": {},
      "outputs": [],
      "source": [
        "RANDOM_SEED = 43"
      ]
    },
    {
      "cell_type": "markdown",
      "metadata": {
        "id": "YEYqDqqrkZJj"
      },
      "source": [
        "# Dataset"
      ]
    },
    {
      "cell_type": "code",
      "execution_count": null,
      "metadata": {},
      "outputs": [],
      "source": [
        "import torch\n",
        "from torchvision import transforms\n",
        "from torchvision.datasets import ImageFolder\n",
        "from torch.utils.data import random_split, DataLoader\n",
        "import matplotlib.pyplot as plt"
      ]
    },
    {
      "cell_type": "code",
      "execution_count": null,
      "metadata": {},
      "outputs": [],
      "source": [
        "image_size = (64, 64)\n",
        "batch_size = 64"
      ]
    },
    {
      "cell_type": "code",
      "execution_count": null,
      "metadata": {},
      "outputs": [],
      "source": [
        "image_transforms = transforms.Compose(\n",
        "    [\n",
        "        transforms.Resize(image_size),\n",
        "        transforms.ToTensor()\n",
        "    ]\n",
        ")"
      ]
    },
    {
      "cell_type": "markdown",
      "metadata": {},
      "source": [
        "A feladat megoldását 2 külön adathalmazzal is szeretnénk megtenni:\n",
        "* első és fontosabb a celeba dataset, amely celebek arcait tartalmazza előfeldolgozottan (cropped, aligned)\n",
        "* második a danbooru dataset, amely anime karakterek arcait tartalmazza\n",
        "* (opcionálisan egy kevert adathalmazt is szeretnénk tesztelni, hogy milyen eredményeket tudunk kapni)"
      ]
    },
    {
      "cell_type": "markdown",
      "metadata": {},
      "source": [
        "Az adathalmazokat előre letöltöttük és kicsomagoltuk a tömörített fájlokat, majd így egy volume segítségével kerülnek a containerhez felcsatolásra"
      ]
    },
    {
      "cell_type": "markdown",
      "metadata": {},
      "source": [
        "Mivel képgenerálásról beszélünk, a tesztelési fázis nem teljesen jelent egyértelmű feladatot\n",
        "Ennek ellenére felkészülünk training, validation és test dataloaderekkel is, melyeknek bemenete a random 8:1:1 arányban felosztott adathalmaz. Kimenetük pedig egy batch_size-onként \"adagolt\" adathalmaz a modellünknek, image_size formájú 3 csatornás (RGB) Tensorokként"
      ]
    },
    {
      "cell_type": "code",
      "execution_count": null,
      "metadata": {},
      "outputs": [],
      "source": [
        "import os \n",
        "\n",
        "data_path = os.environ['CELEBA']\n",
        "# data_path = os.environ['DANBOORU']"
      ]
    },
    {
      "cell_type": "code",
      "execution_count": null,
      "metadata": {},
      "outputs": [],
      "source": [
        "generator = torch.Generator().manual_seed(RANDOM_SEED)\n",
        "torch.manual_seed(RANDOM_SEED)\n",
        "torch.cuda.manual_seed_all(RANDOM_SEED)\n",
        "torch.backends.cudnn.deterministic = True"
      ]
    },
    {
      "cell_type": "code",
      "execution_count": null,
      "metadata": {},
      "outputs": [],
      "source": [
        "data = ImageFolder(root=data_path, transform=image_transforms)\n",
        "train_data, val_data, test_data = random_split(data, [0.8, 0.1, 0.1], generator=generator)\n",
        "\n",
        "train_dataloader = DataLoader(train_data, batch_size=batch_size, shuffle=True, num_workers=1, pin_memory=True)\n",
        "val_dataloader = DataLoader(val_data, batch_size=batch_size, shuffle=True, num_workers=1, pin_memory=True)\n",
        "test_dataloader = DataLoader(test_data, batch_size=batch_size, shuffle=True, num_workers=1, pin_memory=True)"
      ]
    },
    {
      "cell_type": "code",
      "execution_count": null,
      "metadata": {},
      "outputs": [],
      "source": [
        "for x, _ in train_dataloader:\n",
        "    print(x[0].shape)\n",
        "    plt.imshow(x[0].permute(1, 2, 0))\n",
        "    break"
      ]
    },
    {
      "cell_type": "markdown",
      "metadata": {
        "id": "R9U-k4qTkpWn"
      },
      "source": [
        "# Model"
      ]
    },
    {
      "cell_type": "markdown",
      "metadata": {
        "id": "Wk6SsNLRkrEe"
      },
      "source": [
        "# Training"
      ]
    },
    {
      "cell_type": "markdown",
      "metadata": {
        "id": "a2HqCbYKktRL"
      },
      "source": [
        "# Evaluation"
      ]
    }
  ],
  "metadata": {
    "colab": {
      "provenance": []
    },
    "kernelspec": {
      "display_name": "Python 3",
      "name": "python3"
    },
    "language_info": {
      "codemirror_mode": {
        "name": "ipython",
        "version": 3
      },
      "file_extension": ".py",
      "mimetype": "text/x-python",
      "name": "python",
      "nbconvert_exporter": "python",
      "pygments_lexer": "ipython3",
      "version": "3.11.5"
    }
  },
  "nbformat": 4,
  "nbformat_minor": 0
}
